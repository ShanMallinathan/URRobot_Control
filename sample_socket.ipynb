{
 "cells": [
  {
   "cell_type": "code",
   "execution_count": 22,
   "metadata": {},
   "outputs": [],
   "source": [
    "import socket\n",
    "\n",
    "# Define the robot's IP address and port\n",
    "robot_ip = \"192.168.11.128\"  # Replace with the actual IP address of your robot\n",
    "port = 29999  # Default port for URScript execution\n",
    "\n",
    "# Define the URP file name\n",
    "urp_file = \"socket_connection.urp\"  # Replace with the name of your URP file\n",
    "\n",
    "# Create a socket connection to the robot\n",
    "s = socket.socket(socket.AF_INET, socket.SOCK_STREAM)\n",
    "s.connect((robot_ip, port))\n",
    "\n",
    "# Send the script command to execute the URP file\n",
    "# command = \"load \" + urp_file + \"\\n\"\n",
    "# command = \"play\"\n",
    "command = \"stop\"\n",
    "s.send(command.encode())\n",
    "\n",
    "# Close the socket connection\n",
    "s.close()\n"
   ]
  }
 ],
 "metadata": {
  "kernelspec": {
   "display_name": "Python 3",
   "language": "python",
   "name": "python3"
  },
  "language_info": {
   "codemirror_mode": {
    "name": "ipython",
    "version": 3
   },
   "file_extension": ".py",
   "mimetype": "text/x-python",
   "name": "python",
   "nbconvert_exporter": "python",
   "pygments_lexer": "ipython3",
   "version": "3.10.2"
  },
  "orig_nbformat": 4
 },
 "nbformat": 4,
 "nbformat_minor": 2
}
