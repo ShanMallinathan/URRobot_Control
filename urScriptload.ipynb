{
 "cells": [
  {
   "cell_type": "code",
   "execution_count": 4,
   "metadata": {},
   "outputs": [],
   "source": [
    "\n",
    "# Echo client program\n",
    "import socket\n",
    "import time\n",
    "\n",
    "# Define the robot's IP address and port\n",
    "robot_ip = \"192.168.11.128\"  # Replace with the actual IP address of your robot\n",
    "port = 29999  # Default port for URScript execution\n",
    "\n",
    "# Define the URP file name\n",
    "urp_file = \"socket_connection.urp\"  # Replace with the name of your URP file\n",
    "\n",
    "# Create a socket connection to the robot\n",
    "s = socket.socket(socket.AF_INET, socket.SOCK_STREAM)\n",
    "s.connect((robot_ip, port))\n",
    "\n",
    "# Send the script command to execute the URP file\n",
    "# command = \"load \" + urp_file + \"\\n\"\n",
    "command = \"play\"\n",
    "# command = \"stop\"\n",
    "s.send(command.encode())\n",
    "\n",
    "# Close the socket connection\n",
    "s.close()"
   ]
  },
  {
   "cell_type": "code",
   "execution_count": 5,
   "metadata": {},
   "outputs": [
    {
     "name": "stdout",
     "output_type": "stream",
     "text": [
      "Starting Program\n",
      "intialising\n",
      "Connection Established\n",
      "Sending\n",
      "b'[-2.25634,-2.11657,-0.715906,-1.91511,1.57439,-0.686394]'\n",
      "Program finish\n"
     ]
    }
   ],
   "source": [
    "HOST = \"138.250.220.102\" # The remote host\n",
    "PORT = 30000 # The same port as used by the server\n",
    "print (\"Starting Program\")\n",
    "count = 0\n",
    "msg = None\n",
    "connection_flag = True\n",
    "target_pose = [-0.58204192361418167, -0.43723481341263587, 0.57842372906852585, -0.0012213596815924665, 3.116276528481967, 0.03889191563688674]\n",
    "val = (f\"({target_pose[0]}, {target_pose[1]}, {target_pose[2]}, {target_pose[3]}, {target_pose[4]}, {target_pose[5]})\")\n",
    "socket_flag = False\n",
    "\n",
    "while (connection_flag):\n",
    "    print(\"intialising\")\n",
    "    if(not socket_flag):\n",
    "        s = socket.socket(socket.AF_INET, socket.SOCK_STREAM)\n",
    "        s.setsockopt(socket.SOL_SOCKET, socket.SO_REUSEADDR, 1)\n",
    "        s.bind((HOST, PORT)) # Bind to the port \n",
    "        s.listen(5) # Now wait for client connection.\n",
    "        c, addr = s.accept() # Establish connection with client.\n",
    "        print(\"Connection Established\")\n",
    "        socket_flag = True\n",
    "    count+=1\n",
    "    if(count==200):\n",
    "            break\n",
    "\n",
    "    print(\"Sending\")\n",
    "    c.send(val.encode())\n",
    "    time.sleep(1)\n",
    "    msg = c.recv(1024)\n",
    "    if msg is not None:\n",
    "        print (msg)\n",
    "        break\n",
    "        \n",
    "        \n",
    "        # if msg == \"asking_for_data\":\n",
    "        #     count = count + 1\n",
    "        # print (\"The count is:\"), count\n",
    "        # time.sleep(0.5)\n",
    "        # print (\"\")\n",
    "        # time.sleep(0.5)\n",
    "    \n",
    "\n",
    "\n",
    "c.close()\n",
    "s.close()\n",
    "print(\"Program finish\")"
   ]
  },
  {
   "cell_type": "code",
   "execution_count": 6,
   "metadata": {},
   "outputs": [],
   "source": [
    "# Echo client program\n",
    "import socket\n",
    "import time\n",
    "\n",
    "# Define the robot's IP address and port\n",
    "robot_ip = \"192.168.11.128\"  # Replace with the actual IP address of your robot\n",
    "port = 29999  # Default port for URScript execution\n",
    "\n",
    "# Define the URP file name\n",
    "urp_file = \"socket_connection.urp\"  # Replace with the name of your URP file\n",
    "\n",
    "# Create a socket connection to the robot\n",
    "s = socket.socket(socket.AF_INET, socket.SOCK_STREAM)\n",
    "s.connect((robot_ip, port))\n",
    "\n",
    "# Send the script command to execute the URP file\n",
    "# command = \"load \" + urp_file + \"\\n\"\n",
    "# command = \"play\"\n",
    "command = \"stop\"\n",
    "s.send(command.encode())\n",
    "\n",
    "# Close the socket connection\n",
    "s.close()"
   ]
  },
  {
   "cell_type": "code",
   "execution_count": 11,
   "metadata": {},
   "outputs": [
    {
     "ename": "AttributeError",
     "evalue": "'bytes' object has no attribute 'encode'",
     "output_type": "error",
     "traceback": [
      "\u001b[1;31m---------------------------------------------------------------------------\u001b[0m",
      "\u001b[1;31mAttributeError\u001b[0m                            Traceback (most recent call last)",
      "Cell \u001b[1;32mIn[11], line 1\u001b[0m\n\u001b[1;32m----> 1\u001b[0m msg\u001b[39m.\u001b[39;49mencode\n",
      "\u001b[1;31mAttributeError\u001b[0m: 'bytes' object has no attribute 'encode'"
     ]
    }
   ],
   "source": [
    "msg.encode"
   ]
  }
 ],
 "metadata": {
  "kernelspec": {
   "display_name": "Python 3",
   "language": "python",
   "name": "python3"
  },
  "language_info": {
   "codemirror_mode": {
    "name": "ipython",
    "version": 3
   },
   "file_extension": ".py",
   "mimetype": "text/x-python",
   "name": "python",
   "nbconvert_exporter": "python",
   "pygments_lexer": "ipython3",
   "version": "3.10.2"
  },
  "orig_nbformat": 4
 },
 "nbformat": 4,
 "nbformat_minor": 2
}
